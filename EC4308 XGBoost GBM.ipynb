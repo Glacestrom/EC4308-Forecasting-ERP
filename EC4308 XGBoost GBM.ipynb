{
 "cells": [
  {
   "cell_type": "code",
   "execution_count": null,
   "metadata": {},
   "outputs": [],
   "source": [
    "!pip install -U scikit-learn"
   ]
  },
  {
   "cell_type": "code",
   "execution_count": null,
   "metadata": {},
   "outputs": [],
   "source": [
    "!pip install xgboost"
   ]
  },
  {
   "cell_type": "code",
   "execution_count": null,
   "metadata": {},
   "outputs": [],
   "source": [
    "!pip install sktime --ignore-installed llvmlite"
   ]
  },
  {
   "cell_type": "code",
   "execution_count": null,
   "metadata": {},
   "outputs": [],
   "source": [
    "!pip install pandas_market_calendars"
   ]
  },
  {
   "cell_type": "code",
   "execution_count": null,
   "metadata": {},
   "outputs": [],
   "source": [
    "!pip install -U scikit-optimize"
   ]
  },
  {
   "cell_type": "code",
   "execution_count": 1,
   "metadata": {},
   "outputs": [],
   "source": [
    "import numpy as np\n",
    "import pandas as pd\n",
    "import matplotlib.pyplot as plt\n",
    "from pprint import pprint"
   ]
  },
  {
   "cell_type": "code",
   "execution_count": 2,
   "metadata": {},
   "outputs": [
    {
     "name": "stdout",
     "output_type": "stream",
     "text": [
      "X_train: (3416, 1201), X_test: (855, 1201), y_train: (3416, 2), y_test: (855, 2)\n"
     ]
    }
   ],
   "source": [
    "feature_df = pd.read_csv('features.csv')\n",
    "\n",
    "X_train_full = pd.read_csv('train.csv')\n",
    "X_test = pd.read_csv('test.csv')\n",
    "y_train_full = pd.read_csv('train_labels.csv')\n",
    "y_test = pd.read_csv('test_labels.csv')\n",
    "\n",
    "print(f'X_train: {X_train_full.shape}, X_test: {X_test.shape}, y_train: {y_train_full.shape}, y_test: {y_test.shape}')"
   ]
  },
  {
   "cell_type": "code",
   "execution_count": 3,
   "metadata": {},
   "outputs": [
    {
     "name": "stdout",
     "output_type": "stream",
     "text": [
      "X_train: (3006, 1201), X_valid: (410, 1201), y_train: (3006, 2), y_valid: (410, 2)\n"
     ]
    }
   ],
   "source": [
    "from sktime.forecasting.model_selection import temporal_train_test_split\n",
    "\n",
    "X_train, X_valid = temporal_train_test_split(X_train_full, test_size=0.12)\n",
    "y_train, y_valid = temporal_train_test_split(y_train_full, test_size=0.12)\n",
    "\n",
    "print(f'X_train: {X_train.shape}, X_valid: {X_valid.shape}, y_train: {y_train.shape}, y_valid: {y_valid.shape}')"
   ]
  },
  {
   "cell_type": "code",
   "execution_count": 4,
   "metadata": {},
   "outputs": [
    {
     "name": "stdout",
     "output_type": "stream",
     "text": [
      "X_train: (3006, 1200), X_test: (855, 1200), y_train: (3006,), y_test: (855,)\n"
     ]
    }
   ],
   "source": [
    "import pandas_market_calendars as mcal\n",
    "\n",
    "for df in (feature_df, X_train, X_valid, X_test, y_train, y_valid, y_test):\n",
    "    df['date'] = pd.to_datetime(df['date'], format = '%Y-%m-%d')\n",
    "    df.set_index('date', inplace=True)\n",
    "\n",
    "nyse = mcal.get_calendar('NYSE')\n",
    "bday_us = pd.offsets.CustomBusinessDay(holidays=nyse.adhoc_holidays, calendar=nyse.regular_holidays, weekmask=\"1111100\")\n",
    "feature_df = feature_df.asfreq(bday_us)\n",
    "X_train = X_train.asfreq(bday_us)\n",
    "X_valid = X_valid.asfreq(bday_us)\n",
    "X_test = X_test.asfreq(bday_us)\n",
    "y_train = y_train.asfreq(bday_us)['ERP_Sign']\n",
    "y_valid = y_valid.asfreq(bday_us)['ERP_Sign']\n",
    "y_test = y_test.asfreq(bday_us)['ERP_Sign']\n",
    "\n",
    "print(f'X_train: {X_train.shape}, X_test: {X_test.shape}, y_train: {y_train.shape}, y_test: {y_test.shape}')"
   ]
  },
  {
   "cell_type": "code",
   "execution_count": 5,
   "metadata": {},
   "outputs": [],
   "source": [
    "data_series = pd.concat([y_train, y_valid, y_test])"
   ]
  },
  {
   "cell_type": "code",
   "execution_count": 6,
   "metadata": {},
   "outputs": [],
   "source": [
    "max_lags = 10\n",
    "fcst_horizon = [5, 10, 15, 20]\n",
    "max_horizon = fcst_horizon[-1]\n",
    "model_vars = feature_df.columns"
   ]
  },
  {
   "cell_type": "code",
   "execution_count": 7,
   "metadata": {},
   "outputs": [],
   "source": [
    "from skopt.space import Real, Integer\n",
    "from sklearn import metrics\n",
    "\n",
    "# Define the parameter grid for cross-validation to search through\n",
    "param_grid = {\n",
    "    'min_child_weight': Real(0, 30),\n",
    "    'max_depth': Integer(3, 30),\n",
    "    'subsample': Real(0.01, 1.0),\n",
    "    'colsample_bytree': Real(0.01, 1.0),\n",
    "    'colsample_bylevel': Real(0.01, 1.0),\n",
    "    'reg_lambda': Real(1e-5, 100.0, prior='log-uniform'),\n",
    "    'reg_alpha': Real(1e-5, 10.0, prior='log-uniform'),\n",
    "    'gamma': Real(1e-5, 1.0, prior='log-uniform'),\n",
    "    'n_estimators': Integer(50, 500)\n",
    "}\n",
    "\n",
    "# Define (negative) log-loss as the loss function, aka scorer\n",
    "log_loss = metrics.make_scorer(metrics.log_loss, greater_is_better=False, needs_proba=True, labels=[0, 1])"
   ]
  },
  {
   "cell_type": "code",
   "execution_count": null,
   "metadata": {},
   "outputs": [],
   "source": [
    "from sklearn.model_selection import TimeSeriesSplit\n",
    "from xgboost import XGBClassifier\n",
    "from skopt import BayesSearchCV\n",
    "from sklearn.metrics import accuracy_score, average_precision_score, f1_score, precision_score, recall_score, roc_auc_score\n",
    "from sktime.utils.plotting import plot_series\n",
    "import seaborn as sns\n",
    "\n",
    "# Create empty dataframes and dictionaries to store results\n",
    "xgb_train_df = pd.DataFrame(\n",
    "    [(f'h{h}', 'xgb_clf') for h in fcst_horizon], columns=['fh','clf']    \n",
    ")\n",
    "\n",
    "xgb_test_df = pd.DataFrame(\n",
    "    [(f'h{h}', 'xgb_clf') for h in fcst_horizon], columns=['fh','clf']    \n",
    ")\n",
    "\n",
    "xgb_pred_df = pd.DataFrame().reindex(data_series.index)\n",
    "xgb_prob_df = pd.DataFrame().reindex(data_series.index)\n",
    "\n",
    "xgb_params_dict = {}\n",
    "\n",
    "xgb_features_dict = {}\n",
    "\n",
    "# Loop through each forecast horizon (in months) from 1 to 12\n",
    "i = 0\n",
    "for h in fcst_horizon:\n",
    "    p = max_lags + h\n",
    "    time_start = y_train.index[0] + p*bday_us - 1*bday_us\n",
    "    mask_Xstart = X_train.index >= time_start\n",
    "    mask_ystart = y_train.index >= time_start\n",
    "\n",
    "    # Select only X and y columns and observations for the relevant forecast horizon\n",
    "    X_train_h = X_train.loc[mask_Xstart, [f'{x}L{lag}' for x in model_vars for lag in range(h, p)]]\n",
    "    X_valid_h = X_valid[[f'{x}L{lag}' for x in model_vars for lag in range(h, p)]]\n",
    "    X_test_h = X_test[[f'{x}L{lag}' for x in model_vars for lag in range(h, p)]]\n",
    "    y_train_h = y_train.loc[mask_ystart]\n",
    "\n",
    "    # Create an expanding window splitter for cross-validation\n",
    "    cv = TimeSeriesSplit(n_splits=10)\n",
    "\n",
    "    # Create an XGB classifier with a fixed learning rate and objective\n",
    "    # Set the random state to 42 for reproducible results\n",
    "    xgb_clf = XGBClassifier(learning_rate=0.01, objective='binary:logistic', random_state=42)\n",
    "\n",
    "    # Create a forecasting random search object with param distributions, scoring and cv as previously defined\n",
    "    # Fit the search object on the train dataset for the respective forecast horizon\n",
    "    xgb_search = BayesSearchCV(\n",
    "        estimator=xgb_clf, search_spaces=param_grid, n_iter=100, verbose=0, scoring=log_loss, cv=cv, random_state=42,\n",
    "        fit_params = {'early_stopping_rounds': 50, 'eval_metric': 'auc', 'eval_set': (X_valid_h, y_valid)}\n",
    "    )\n",
    "    xgb_search.fit(X=X_train_h, y=y_train_h, verbose=0)\n",
    "    xgb_params_dict[(f'h{h}', 'xgb_clf')] = xgb_search.best_params_\n",
    "    xgb_fitted = XGBClassifier(**xgb_search.best_estimator_.get_params()).fit(X=X_train_h, y=y_train_h)\n",
    "\n",
    "    # Calculate the predicted recession binary values and probabilities for the train set\n",
    "    y_pred_train = xgb_fitted.predict(X_train_h)\n",
    "    y_prob_train = xgb_fitted.predict_proba(X_train_h)[:, 1]\n",
    "\n",
    "    xgb_train_df.loc[i, 'Accuracy'] = accuracy_score(y_train_h, y_pred_train)\n",
    "    xgb_train_df.loc[i, 'F1 Score'] = f1_score(y_train_h, y_pred_train)\n",
    "    xgb_train_df.loc[i, 'PR AUC'] = average_precision_score(y_train_h, y_prob_train)\n",
    "    xgb_train_df.loc[i, 'Precision'] = precision_score(y_train_h, y_pred_train)\n",
    "    xgb_train_df.loc[i, 'Sensitivity'] = recall_score(y_train_h, y_pred_train)\n",
    "    xgb_train_df.loc[i, 'Specificity'] = recall_score(y_train_h, y_pred_train, pos_label=0)\n",
    "    xgb_train_df.loc[i, 'ROC AUC'] = roc_auc_score(y_train_h, y_prob_train)\n",
    "\n",
    "    # Calculate the predicted recession binary values and probabilities for the test set\n",
    "    y_pred_test = xgb_fitted.predict(X_test_h)\n",
    "    y_prob_test = xgb_fitted.predict_proba(X_test_h)[:, 1]\n",
    "    \n",
    "    xgb_test_df.loc[i, 'Accuracy'] = accuracy_score(y_test, y_pred_test)\n",
    "    xgb_test_df.loc[i, 'F1 Score'] = f1_score(y_test, y_pred_test)\n",
    "    xgb_test_df.loc[i, 'PR AUC'] = average_precision_score(y_test, y_prob_test)\n",
    "    xgb_test_df.loc[i, 'Precision'] = precision_score(y_test, y_pred_test)\n",
    "    xgb_test_df.loc[i, 'Sensitivity'] = recall_score(y_test, y_pred_test)\n",
    "    xgb_test_df.loc[i, 'Specificity'] = recall_score(y_test, y_pred_test, pos_label=0)\n",
    "    xgb_test_df.loc[i, 'ROC AUC'] = roc_auc_score(y_test, y_prob_test)\n",
    "\n",
    "    # Extract the top 20 features by importance\n",
    "    feature_importance = pd.Series(xgb_fitted.feature_importances_, index=X_train_h.columns)\n",
    "    best_features = feature_importance.sort_values(ascending=False).head(20)\n",
    "    xgb_features_dict[(f'h{h}', 'xgb_clf')] = best_features\n",
    "\n",
    "    # Convert np arrays to datetime series for time series plotting\n",
    "    y_pred = pd.concat([pd.Series(y_pred_train).set_axis(y_train_h.index), pd.Series(y_pred_test).set_axis(y_test.index)])\n",
    "    y_prob = pd.concat([pd.Series(y_prob_train).set_axis(y_train_h.index), pd.Series(y_prob_test).set_axis(y_test.index)])\n",
    "\n",
    "    xgb_pred_df[(f'h{h}', 'xgb_clf')] = y_pred\n",
    "    xgb_prob_df[(f'h{h}', 'xgb_clf')] = y_prob\n",
    "\n",
    "    # Plot the actual recession binary values with the predicted binary values\n",
    "    plot_series(y_train_h, y_test, y_pred, labels=['y_train', 'y_test', 'y_pred'], x_label='Date', y_label='ERP Sign (Binary)')\n",
    "    plt.title(f'erp_binary_xgb_h{h}')\n",
    "    plt.tight_layout()\n",
    "    plt.savefig(f'erp_binary_xgb_h{h}.png')\n",
    "    plt.close()\n",
    "\n",
    "    # Plot the actual recession binary values with the predicted probabilities\n",
    "    plot_series(y_train_h, y_test, y_prob, labels=['y_train', 'y_test', 'y_prob'], x_label='Date', y_label='Pr(ERP Sign)')\n",
    "    plt.title(f'erp_prob_xgb_h{h}')\n",
    "    plt.tight_layout()\n",
    "    plt.savefig(f'erp_prob_xgb_h{h}.png')\n",
    "    plt.close()\n",
    "\n",
    "    # Plot the top 20 features by importance\n",
    "    # Save all three graphs and close them for matplotlib to release memory\n",
    "    plt.figure(figsize=(20,28))\n",
    "    sns.barplot(x=best_features.values, y=best_features.index)\n",
    "    plt.title(f'feature_importance_xgb_h{h}')\n",
    "    plt.tight_layout()\n",
    "    plt.savefig(f'feature_importance_xgb_h{h}.png')\n",
    "    plt.close()\n",
    "    \n",
    "    i += 1"
   ]
  },
  {
   "cell_type": "code",
   "execution_count": null,
   "metadata": {},
   "outputs": [],
   "source": [
    "xgb_train_df.to_csv('erp_xgb_train_results.csv')\n",
    "xgb_test_df.to_csv('erp_xgb_test_results.csv')\n",
    "xgb_pred_df.to_csv('erp_xgb_pred_estimates.csv')\n",
    "xgb_prob_df.to_csv('erp_xgb_prob_estimates.csv')"
   ]
  },
  {
   "cell_type": "code",
   "execution_count": null,
   "metadata": {},
   "outputs": [],
   "source": [
    "xgb_params_df = pd.DataFrame.from_dict(xgb_params_dict, orient='index')\n",
    "xgb_params_df.to_csv('erp_xgb_parameters.csv')"
   ]
  },
  {
   "cell_type": "code",
   "execution_count": null,
   "metadata": {},
   "outputs": [],
   "source": [
    "# Perform some manipulation and export feature importances to CSV\n",
    "\n",
    "feature_importance_df = pd.DataFrame()\n",
    "\n",
    "for h in fcst_horizon:\n",
    "    tmp_feature = xgb_features_dict[(f'h{h}', 'xgb_clf')].rename_axis(f'h{h}_xgb_feature').reset_index(name=f'h{h}_xgb_importance')\n",
    "    feature_importance_df = pd.concat([feature_importance_df, tmp_feature.T])\n",
    "\n",
    "feature_importance_df.to_csv('erp_xgb_feature_importances.csv')"
   ]
  }
 ],
 "metadata": {
  "kernelspec": {
   "display_name": "Python 3.7.6 ('base')",
   "language": "python",
   "name": "python3"
  },
  "language_info": {
   "codemirror_mode": {
    "name": "ipython",
    "version": 3
   },
   "file_extension": ".py",
   "mimetype": "text/x-python",
   "name": "python",
   "nbconvert_exporter": "python",
   "pygments_lexer": "ipython3",
   "version": "3.7.6"
  },
  "orig_nbformat": 4,
  "vscode": {
   "interpreter": {
    "hash": "5b020d37e2d2792244d38dc749b48635155a26318d10fe99dbb63be9f4ff243c"
   }
  }
 },
 "nbformat": 4,
 "nbformat_minor": 2
}

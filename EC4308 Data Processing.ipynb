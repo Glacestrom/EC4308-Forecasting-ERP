{
 "cells": [
  {
   "cell_type": "code",
   "execution_count": 1,
   "metadata": {},
   "outputs": [],
   "source": [
    "import numpy as np\n",
    "import pandas as pd"
   ]
  },
  {
   "cell_type": "code",
   "execution_count": 2,
   "metadata": {},
   "outputs": [],
   "source": [
    "data_df = pd.read_csv('finaldata.csv', index_col=0)"
   ]
  },
  {
   "cell_type": "code",
   "execution_count": 3,
   "metadata": {},
   "outputs": [],
   "source": [
    "data_df['date'] = pd.to_datetime(data_df['date'], format = '%d/%m/%Y')\n",
    "data_df.set_index('date', inplace=True)"
   ]
  },
  {
   "cell_type": "code",
   "execution_count": 4,
   "metadata": {},
   "outputs": [],
   "source": [
    "X = data_df.drop('ERP_Sign', axis=1)\n",
    "y = data_df['ERP_Sign']"
   ]
  },
  {
   "cell_type": "code",
   "execution_count": 5,
   "metadata": {},
   "outputs": [],
   "source": [
    "max_lags = 10\n",
    "fcst_horizon = [5, 10, 15, 20]\n",
    "max_horizon = fcst_horizon[-1]\n",
    "model_vars = X.columns"
   ]
  },
  {
   "cell_type": "code",
   "execution_count": 6,
   "metadata": {},
   "outputs": [],
   "source": [
    "#Create lagged variables for features\n",
    "\n",
    "for lag in range(1, max_lags + max_horizon):\n",
    "    lagged = X[model_vars].shift(lag)\n",
    "    lagged.columns = [x + 'L' + str(lag) for x in model_vars]\n",
    "\n",
    "    X = pd.concat((X, lagged), axis=1)"
   ]
  },
  {
   "cell_type": "code",
   "execution_count": null,
   "metadata": {},
   "outputs": [
    {
     "data": {
      "text/plain": [
       "close  close         1.000000\n",
       "       adjclose      0.999270\n",
       "       ma50d         0.995358\n",
       "       ma200d        0.981347\n",
       "       ema50d        0.996596\n",
       "       ema200d       0.986725\n",
       "       gdp           0.949610\n",
       "       closeL1       0.999644\n",
       "       adjcloseL1    0.998949\n",
       "       ma50dL1       0.995083\n",
       "       ma200dL1      0.981041\n",
       "       ema50dL1      0.996309\n",
       "       ema200dL1     0.986440\n",
       "       gdpL1         0.949418\n",
       "       closeL2       0.999345\n",
       "       adjcloseL2    0.998680\n",
       "       ma50dL2       0.994812\n",
       "       ma200dL2      0.980736\n",
       "       ema50dL2      0.996025\n",
       "       ema200dL2     0.986156\n",
       "       gdpL2         0.949225\n",
       "       closeL3       0.999017\n",
       "       adjcloseL3    0.998381\n",
       "dtype: float64"
      ]
     },
     "metadata": {},
     "output_type": "display_data"
    }
   ],
   "source": [
    "# Correlation matrix where absolute correlation coefficient > 0.8\n",
    "\n",
    "# corr_matrix = X.corr()\n",
    "# corr_matrix.where(corr_matrix.abs().gt(0.8)).stack()[:23]"
   ]
  },
  {
   "cell_type": "code",
   "execution_count": 7,
   "metadata": {},
   "outputs": [
    {
     "name": "stdout",
     "output_type": "stream",
     "text": [
      "X_train: (3416, 1200), X_test: (855, 1200), y_train: (3416,), y_test: (855,)\n"
     ]
    }
   ],
   "source": [
    "from sktime.forecasting.model_selection import temporal_train_test_split\n",
    "\n",
    "X_train, X_test = temporal_train_test_split(X, test_size=0.2)\n",
    "y_train, y_test = temporal_train_test_split(y, test_size=0.2)\n",
    "\n",
    "print(f'X_train: {X_train.shape}, X_test: {X_test.shape}, y_train: {y_train.shape}, y_test: {y_test.shape}')"
   ]
  },
  {
   "cell_type": "code",
   "execution_count": 8,
   "metadata": {},
   "outputs": [],
   "source": [
    "from sklearn.preprocessing import MinMaxScaler\n",
    "\n",
    "scaler = MinMaxScaler()\n",
    "X_train_scaled = scaler.fit_transform(X_train)\n",
    "X_test_scaled = scaler.transform(X_test)"
   ]
  },
  {
   "cell_type": "code",
   "execution_count": 9,
   "metadata": {},
   "outputs": [],
   "source": [
    "X_train_scaled = pd.DataFrame(data=X_train_scaled, index=X_train.index, columns=X_train.columns)\n",
    "X_test_scaled = pd.DataFrame(data=X_test_scaled, index=X_test.index, columns=X_test.columns)"
   ]
  },
  {
   "cell_type": "code",
   "execution_count": 10,
   "metadata": {},
   "outputs": [],
   "source": [
    "X_train_scaled.to_csv('train.csv')\n",
    "y_train.to_csv('train_labels.csv')\n",
    "X_test_scaled.to_csv('test.csv')\n",
    "y_test.to_csv('test_labels.csv')"
   ]
  }
 ],
 "metadata": {
  "kernelspec": {
   "display_name": "Python 3.7.6 ('base')",
   "language": "python",
   "name": "python3"
  },
  "language_info": {
   "codemirror_mode": {
    "name": "ipython",
    "version": 3
   },
   "file_extension": ".py",
   "mimetype": "text/x-python",
   "name": "python",
   "nbconvert_exporter": "python",
   "pygments_lexer": "ipython3",
   "version": "3.7.6"
  },
  "orig_nbformat": 4,
  "vscode": {
   "interpreter": {
    "hash": "5b020d37e2d2792244d38dc749b48635155a26318d10fe99dbb63be9f4ff243c"
   }
  }
 },
 "nbformat": 4,
 "nbformat_minor": 2
}

{
 "cells": [
  {
   "cell_type": "code",
   "execution_count": null,
   "metadata": {},
   "outputs": [],
   "source": [
    "import numpy as np\n",
    "import pandas as pd\n",
    "import matplotlib.pyplot as plt\n",
    "from pprint import pprint"
   ]
  },
  {
   "cell_type": "code",
   "execution_count": null,
   "metadata": {},
   "outputs": [
    {
     "name": "stdout",
     "output_type": "stream",
     "text": [
      "X_train: (3416, 1201), X_test: (855, 1201), y_train: (3416, 2), y_test: (855, 2)\n"
     ]
    }
   ],
   "source": [
    "feature_df = pd.read_csv('features.csv')\n",
    "\n",
    "X_train = pd.read_csv('train.csv')\n",
    "X_test = pd.read_csv('test.csv')\n",
    "y_train = pd.read_csv('train_labels.csv')\n",
    "y_test = pd.read_csv('test_labels.csv')\n",
    "\n",
    "print(f'X_train: {X_train.shape}, X_test: {X_test.shape}, y_train: {y_train.shape}, y_test: {y_test.shape}')"
   ]
  },
  {
   "cell_type": "code",
   "execution_count": null,
   "metadata": {},
   "outputs": [
    {
     "name": "stdout",
     "output_type": "stream",
     "text": [
      "X_train: (3416, 1200), X_test: (855, 1200), y_train: (3416,), y_test: (855,)\n"
     ]
    }
   ],
   "source": [
    "import pandas_market_calendars as mcal\n",
    "\n",
    "for df in (feature_df, X_train, X_test, y_train, y_test):\n",
    "    df['date'] = pd.to_datetime(df['date'], format = '%Y-%m-%d')\n",
    "    df.set_index('date', inplace=True)\n",
    "\n",
    "nyse = mcal.get_calendar('NYSE')\n",
    "bday_us = pd.offsets.CustomBusinessDay(holidays=nyse.adhoc_holidays, calendar=nyse.regular_holidays, weekmask=\"1111100\")\n",
    "feature_df = feature_df.asfreq(bday_us)\n",
    "X_train = X_train.asfreq(bday_us)\n",
    "X_test = X_test.asfreq(bday_us)\n",
    "y_train = y_train.asfreq(bday_us)['ERP_Sign']\n",
    "y_test = y_test.asfreq(bday_us)['ERP_Sign']\n",
    "\n",
    "print(f'X_train: {X_train.shape}, X_test: {X_test.shape}, y_train: {y_train.shape}, y_test: {y_test.shape}')"
   ]
  },
  {
   "cell_type": "code",
   "execution_count": null,
   "metadata": {},
   "outputs": [],
   "source": [
    "data_series = pd.concat([y_train, y_test])"
   ]
  },
  {
   "cell_type": "code",
   "execution_count": null,
   "metadata": {},
   "outputs": [],
   "source": [
    "max_lags = 10\n",
    "fcst_horizon = [5, 10, 15, 20]\n",
    "max_horizon = fcst_horizon[-1]\n",
    "model_vars = feature_df.columns"
   ]
  },
  {
   "cell_type": "code",
   "execution_count": null,
   "metadata": {},
   "outputs": [],
   "source": [
    "from sklearn import metrics\n",
    "\n",
    "# Define (negative) log-loss as the loss function, aka scorer\n",
    "log_loss = metrics.make_scorer(metrics.log_loss, greater_is_better=False, needs_proba=True, labels=[0, 1])"
   ]
  },
  {
   "cell_type": "code",
   "execution_count": null,
   "metadata": {},
   "outputs": [],
   "source": [
    "from sklearn.tree import DecisionTreeClassifier\n",
    "from sklearn.metrics import accuracy_score, average_precision_score, f1_score, precision_score, recall_score, roc_auc_score\n",
    "from sktime.utils.plotting import plot_series\n",
    "import seaborn as sns\n",
    "from sklearn.tree import plot_tree\n",
    "\n",
    "tree_train_df = pd.DataFrame(\n",
    "    [(f'h{h}', 'tree_clf') for h in fcst_horizon], columns=['fh','clf']    \n",
    ")\n",
    "\n",
    "tree_test_df = pd.DataFrame(\n",
    "    [(f'h{h}', 'tree_clf') for h in fcst_horizon], columns=['fh','clf']    \n",
    ")\n",
    "\n",
    "tree_pred_df = pd.DataFrame().reindex(data_series.index)\n",
    "tree_prob_df = pd.DataFrame().reindex(data_series.index)\n",
    "\n",
    "tree_features_dict = {}\n",
    "\n",
    "i = 0\n",
    "for h in fcst_horizon:\n",
    "    p = max_lags + h\n",
    "    time_start = y_train.index[0] + p*bday_us - 1*bday_us\n",
    "    mask_Xstart = X_train.index >= time_start\n",
    "    mask_ystart = y_train.index >= time_start\n",
    "\n",
    "    # Select only X and y columns and observations for the relevant forecast horizon\n",
    "    X_train_h = X_train.loc[mask_Xstart, [f'{x}L{lag}' for x in model_vars for lag in range(h, p)]]\n",
    "    X_test_h = X_test[[f'{x}L{lag}' for x in model_vars for lag in range(h, p)]]\n",
    "    y_train_h = y_train.loc[mask_ystart]\n",
    "\n",
    "    tree_clf = DecisionTreeClassifier(random_state=42)\n",
    "    tree_clf.fit(X=X_train_h, y=y_train_h)\n",
    "    \n",
    "    y_pred_train = tree_clf.predict(X_train_h)\n",
    "    y_prob_train = tree_clf.predict_proba(X_train_h)[:, 1]\n",
    "\n",
    "    tree_train_df.loc[i, 'Accuracy'] = accuracy_score(y_train_h, y_pred_train)\n",
    "    tree_train_df.loc[i, 'F1 Score'] = f1_score(y_train_h, y_pred_train)\n",
    "    tree_train_df.loc[i, 'PR AUC'] = average_precision_score(y_train_h, y_prob_train)\n",
    "    tree_train_df.loc[i, 'Precision'] = precision_score(y_train_h, y_pred_train)\n",
    "    tree_train_df.loc[i, 'Sensitivity'] = recall_score(y_train_h, y_pred_train)\n",
    "    tree_train_df.loc[i, 'Specificity'] = recall_score(y_train_h, y_pred_train, pos_label=0)\n",
    "    tree_train_df.loc[i, 'ROC AUC'] = roc_auc_score(y_train_h, y_prob_train)\n",
    "\n",
    "    y_pred_test = tree_clf.predict(X_test_h)\n",
    "    y_prob_test = tree_clf.predict_proba(X_test_h)[:, 1]\n",
    "    \n",
    "    tree_test_df.loc[i, 'Accuracy'] = accuracy_score(y_test, y_pred_test)\n",
    "    tree_test_df.loc[i, 'F1 Score'] = f1_score(y_test, y_pred_test)\n",
    "    tree_test_df.loc[i, 'PR AUC'] = average_precision_score(y_test, y_prob_test)\n",
    "    tree_test_df.loc[i, 'Precision'] = precision_score(y_test, y_pred_test)\n",
    "    tree_test_df.loc[i, 'Sensitivity'] = recall_score(y_test, y_pred_test)\n",
    "    tree_test_df.loc[i, 'Specificity'] = recall_score(y_test, y_pred_test, pos_label=0)\n",
    "    tree_test_df.loc[i, 'ROC AUC'] = roc_auc_score(y_test, y_prob_test)\n",
    "\n",
    "    # Extract the top 20 features by importance\n",
    "    feature_importance = pd.Series(tree_clf.feature_importances_, index=X_train_h.columns)\n",
    "    best_features = feature_importance.sort_values(ascending=False).head(20)\n",
    "    tree_features_dict[(f'h{h}', 'tree_clf')] = best_features\n",
    "\n",
    "    # Convert np arrays to datetime series for time series plotting\n",
    "    y_pred = pd.concat([pd.Series(y_pred_train).set_axis(y_train_h.index), pd.Series(y_pred_test).set_axis(y_test.index)])\n",
    "    y_prob = pd.concat([pd.Series(y_prob_train).set_axis(y_train_h.index), pd.Series(y_prob_test).set_axis(y_test.index)])\n",
    "\n",
    "    tree_pred_df[(f'h{h}', 'tree_clf')] = y_pred\n",
    "    tree_prob_df[(f'h{h}', 'tree_clf')] = y_prob\n",
    "\n",
    "    # Plot the actual recession binary values with the predicted binary values\n",
    "    plot_series(y_train_h, y_test, y_pred, labels=['y_train', 'y_test', 'y_pred'], x_label='Date', y_label='ERP Sign (Binary)')\n",
    "    plt.title(f'erp_binary_tree_clf_h{h}')\n",
    "    plt.tight_layout()\n",
    "    plt.savefig(f'erp_binary_tree_clf_h{h}.png')\n",
    "    plt.close()\n",
    "\n",
    "    # Plot the actual recession binary values with the predicted probabilities\n",
    "    plot_series(y_train_h, y_test, y_prob, labels=['y_train', 'y_test', 'y_prob'], x_label='Date', y_label='Pr(ERP Sign)')\n",
    "    plt.title(f'erp_prob_tree_clf_h{h}')\n",
    "    plt.tight_layout()\n",
    "    plt.savefig(f'erp_prob_tree_clf_h{h}.png')\n",
    "    plt.close()\n",
    "\n",
    "    # Plot the top 20 features by importance\n",
    "    # Save all three graphs and close them for matplotlib to release memory\n",
    "    plt.figure(figsize=(20,28))\n",
    "    sns.barplot(x=best_features.values, y=best_features.index)\n",
    "    plt.title(f'feature_importance_tree_h{h}')\n",
    "    plt.tight_layout()\n",
    "    plt.savefig(f'feature_importance_tree_h{h}.png')\n",
    "    plt.close()\n",
    "\n",
    "    plt.figure(figsize=(25,20))\n",
    "    plot_tree(tree_clf, feature_names=X_train_h.columns, class_names=['0', '1'], filled=True)\n",
    "    plt.savefig(f'decision_tree_h{h}.png')\n",
    "    plt.close()\n",
    "    \n",
    "    i += 1"
   ]
  },
  {
   "cell_type": "code",
   "execution_count": null,
   "metadata": {},
   "outputs": [],
   "source": [
    "tree_train_df.to_csv('erp_tree_train_results.csv')\n",
    "tree_test_df.to_csv('erp_tree_test_results.csv')\n",
    "tree_pred_df.to_csv('erp_tree_pred_estimates.csv')\n",
    "tree_prob_df.to_csv('erp_tree_prob_estimates.csv')"
   ]
  }
 ],
 "metadata": {
  "kernelspec": {
   "display_name": "Python 3.7.6 ('base')",
   "language": "python",
   "name": "python3"
  },
  "language_info": {
   "name": "python",
   "version": "3.7.6"
  },
  "orig_nbformat": 4,
  "vscode": {
   "interpreter": {
    "hash": "5b020d37e2d2792244d38dc749b48635155a26318d10fe99dbb63be9f4ff243c"
   }
  }
 },
 "nbformat": 4,
 "nbformat_minor": 2
}

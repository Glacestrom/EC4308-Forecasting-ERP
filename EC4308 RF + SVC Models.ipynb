{
 "cells": [
  {
   "cell_type": "code",
   "execution_count": null,
   "metadata": {},
   "outputs": [],
   "source": [
    "!pip install -U scikit-learn"
   ]
  },
  {
   "cell_type": "code",
   "execution_count": null,
   "metadata": {},
   "outputs": [],
   "source": [
    "!pip install sktime --ignore-installed llvmlite"
   ]
  },
  {
   "cell_type": "code",
   "execution_count": null,
   "metadata": {},
   "outputs": [],
   "source": [
    "!pip install pandas_market_calendars"
   ]
  },
  {
   "cell_type": "code",
   "execution_count": null,
   "metadata": {},
   "outputs": [],
   "source": [
    "!pip install -U scikit-optimize"
   ]
  },
  {
   "cell_type": "code",
   "execution_count": 10,
   "metadata": {},
   "outputs": [],
   "source": [
    "import numpy as np\n",
    "import pandas as pd\n",
    "import matplotlib.pyplot as plt\n",
    "from pprint import pprint"
   ]
  },
  {
   "cell_type": "code",
   "execution_count": 11,
   "metadata": {},
   "outputs": [
    {
     "name": "stdout",
     "output_type": "stream",
     "text": [
      "X_train: (3416, 1201), X_test: (855, 1201), y_train: (3416, 2), y_test: (855, 2)\n"
     ]
    }
   ],
   "source": [
    "feature_df = pd.read_csv('features.csv')\n",
    "\n",
    "X_train = pd.read_csv('train.csv')\n",
    "X_test = pd.read_csv('test.csv')\n",
    "y_train = pd.read_csv('train_labels.csv')\n",
    "y_test = pd.read_csv('test_labels.csv')\n",
    "\n",
    "print(f'X_train: {X_train.shape}, X_test: {X_test.shape}, y_train: {y_train.shape}, y_test: {y_test.shape}')"
   ]
  },
  {
   "cell_type": "code",
   "execution_count": 12,
   "metadata": {},
   "outputs": [
    {
     "name": "stdout",
     "output_type": "stream",
     "text": [
      "X_train: (3416, 1200), X_test: (855, 1200), y_train: (3416,), y_test: (855,)\n"
     ]
    }
   ],
   "source": [
    "import pandas_market_calendars as mcal\n",
    "\n",
    "for df in (feature_df, X_train, X_test, y_train, y_test):\n",
    "    df['date'] = pd.to_datetime(df['date'], format = '%Y-%m-%d')\n",
    "    df.set_index('date', inplace=True)\n",
    "\n",
    "nyse = mcal.get_calendar('NYSE')\n",
    "bday_us = pd.offsets.CustomBusinessDay(holidays=nyse.adhoc_holidays, calendar=nyse.regular_holidays, weekmask=\"1111100\")\n",
    "feature_df = feature_df.asfreq(bday_us)\n",
    "X_train = X_train.asfreq(bday_us)\n",
    "X_test = X_test.asfreq(bday_us)\n",
    "y_train = y_train.asfreq(bday_us)['ERP_Sign']\n",
    "y_test = y_test.asfreq(bday_us)['ERP_Sign']\n",
    "\n",
    "print(f'X_train: {X_train.shape}, X_test: {X_test.shape}, y_train: {y_train.shape}, y_test: {y_test.shape}')"
   ]
  },
  {
   "cell_type": "code",
   "execution_count": 13,
   "metadata": {},
   "outputs": [],
   "source": [
    "data_series = pd.concat([y_train, y_test])"
   ]
  },
  {
   "cell_type": "code",
   "execution_count": 14,
   "metadata": {},
   "outputs": [],
   "source": [
    "max_lags = 10\n",
    "fcst_horizon = [5, 10, 15, 20]\n",
    "max_horizon = fcst_horizon[-1]\n",
    "model_vars = feature_df.columns"
   ]
  },
  {
   "cell_type": "code",
   "execution_count": 16,
   "metadata": {
    "id": "HMS39XWuHXgJ"
   },
   "outputs": [],
   "source": [
    "from sklearn.tree import DecisionTreeClassifier\n",
    "from sklearn.ensemble import RandomForestClassifier\n",
    "from sklearn.svm import SVC\n",
    "\n",
    "tree_clf = DecisionTreeClassifier(random_state=42)\n",
    "rf_clf = RandomForestClassifier(random_state=42)\n",
    "svm_clf = SVC(gamma='scale', probability=True, max_iter=10000, random_state=42)"
   ]
  },
  {
   "cell_type": "code",
   "execution_count": 15,
   "metadata": {},
   "outputs": [],
   "source": [
    "from sklearn import metrics\n",
    "\n",
    "# Define (negative) log-loss as the loss function, aka scorer\n",
    "log_loss = metrics.make_scorer(metrics.log_loss, greater_is_better=False, needs_proba=True, labels=[0, 1])"
   ]
  },
  {
   "cell_type": "code",
   "execution_count": null,
   "metadata": {},
   "outputs": [],
   "source": [
    "from skopt.space import Real, Integer\n",
    "from sklearn.model_selection import TimeSeriesSplit\n",
    "from skopt import BayesSearchCV\n",
    "from sklearn.metrics import accuracy_score, average_precision_score, f1_score, precision_score, recall_score, roc_auc_score\n",
    "from sktime.utils.plotting import plot_series\n",
    "import seaborn as sns\n",
    "\n",
    "rf_train_df = pd.DataFrame(\n",
    "    [(f'h{h}', 'rf_clf') for h in fcst_horizon], columns=['fh','clf']    \n",
    ")\n",
    "\n",
    "rf_test_df = pd.DataFrame(\n",
    "    [(f'h{h}', 'rf_clf') for h in fcst_horizon], columns=['fh','clf']    \n",
    ")\n",
    "\n",
    "rf_pred_df = pd.DataFrame().reindex(data_series.index)\n",
    "rf_prob_df = pd.DataFrame().reindex(data_series.index)\n",
    "\n",
    "rf_params_dict = {}\n",
    "rf_features_dict = {}\n",
    "\n",
    "# Define the parameter grid for cross-validation to search through\n",
    "param_grid = {\n",
    "    'n_estimators': Integer(1, 150), \n",
    "    'min_samples_leaf': Integer(1, 4),\n",
    "    'min_samples_split': Integer(2, 10),\n",
    "    'max_depth': Integer(10, 120),\n",
    "    'criterion': ['gini', 'entropy', 'log_loss'],\n",
    "    'ccp_alpha': Real(1e-5, 0.35)\n",
    "}\n",
    "\n",
    "i = 0\n",
    "for h in fcst_horizon:\n",
    "    p = max_lags + h\n",
    "    time_start = y_train.index[0] + p*bday_us - 1*bday_us\n",
    "    mask_Xstart = X_train.index >= time_start\n",
    "    mask_ystart = y_train.index >= time_start\n",
    "\n",
    "    # Select only X and y columns and observations for the relevant forecast horizon\n",
    "    X_train_h = X_train.loc[mask_Xstart, [f'{x}L{lag}' for x in model_vars for lag in range(h, p)]]\n",
    "    X_test_h = X_test[[f'{x}L{lag}' for x in model_vars for lag in range(h, p)]]\n",
    "    y_train_h = y_train.loc[mask_ystart]\n",
    "\n",
    "    # Create an expanding window splitter for cross-validation\n",
    "    cv = TimeSeriesSplit(n_splits=10)\n",
    "\n",
    "    search = BayesSearchCV(estimator=rf_clf, search_spaces=param_grid, n_iter=60, scoring=log_loss, cv=cv, random_state=42)\n",
    "    search.fit(X=X_train_h, y=y_train_h)\n",
    "    rf_params_dict[(f'h{h}', 'rf_clf')] = search.best_params_\n",
    "    rf_fitted = RandomForestClassifier(**search.best_estimator_.get_params()).fit(X=X_train_h, y=y_train_h)\n",
    "    \n",
    "    y_pred_train = search.predict(X_train_h)\n",
    "    y_prob_train = search.predict_proba(X_train_h)[:, 1]\n",
    "\n",
    "    rf_train_df.loc[i, 'Accuracy'] = accuracy_score(y_train_h, y_pred_train)\n",
    "    rf_train_df.loc[i, 'F1 Score'] = f1_score(y_train_h, y_pred_train)\n",
    "    rf_train_df.loc[i, 'PR AUC'] = average_precision_score(y_train_h, y_prob_train)\n",
    "    rf_train_df.loc[i, 'Precision'] = precision_score(y_train_h, y_pred_train)\n",
    "    rf_train_df.loc[i, 'Sensitivity'] = recall_score(y_train_h, y_pred_train)\n",
    "    rf_train_df.loc[i, 'Specificity'] = recall_score(y_train_h, y_pred_train, pos_label=0)\n",
    "    rf_train_df.loc[i, 'ROC AUC'] = roc_auc_score(y_train_h, y_prob_train)\n",
    "\n",
    "    y_pred_test = search.predict(X_test_h)\n",
    "    y_prob_test = search.predict_proba(X_test_h)[:, 1]\n",
    "    \n",
    "    rf_test_df.loc[i, 'Accuracy'] = accuracy_score(y_test, y_pred_test)\n",
    "    rf_test_df.loc[i, 'F1 Score'] = f1_score(y_test, y_pred_test)\n",
    "    rf_test_df.loc[i, 'PR AUC'] = average_precision_score(y_test, y_prob_test)\n",
    "    rf_test_df.loc[i, 'Precision'] = precision_score(y_test, y_pred_test)\n",
    "    rf_test_df.loc[i, 'Sensitivity'] = recall_score(y_test, y_pred_test)\n",
    "    rf_test_df.loc[i, 'Specificity'] = recall_score(y_test, y_pred_test, pos_label=0)\n",
    "    rf_test_df.loc[i, 'ROC AUC'] = roc_auc_score(y_test, y_prob_test)\n",
    "\n",
    "    # Extract the top 20 features by importance\n",
    "    feature_importance = pd.Series(rf_fitted.feature_importances_, index=X_train_h.columns)\n",
    "    best_features = feature_importance.sort_values(ascending=False).head(20)\n",
    "    rf_features_dict[(f'h{h}', 'rf_clf')] = best_features\n",
    "\n",
    "    # Convert np arrays to datetime series for time series plotting\n",
    "    y_pred = pd.concat([pd.Series(y_pred_train).set_axis(y_train_h.index), pd.Series(y_pred_test).set_axis(y_test.index)])\n",
    "    y_prob = pd.concat([pd.Series(y_prob_train).set_axis(y_train_h.index), pd.Series(y_prob_test).set_axis(y_test.index)])\n",
    "\n",
    "    rf_pred_df[(f'h{h}', 'rf_clf')] = y_pred\n",
    "    rf_prob_df[(f'h{h}', 'rf_clf')] = y_prob\n",
    "\n",
    "    # Plot the actual recession binary values with the predicted binary values\n",
    "    plot_series(y_train_h, y_test, y_pred, labels=['y_train', 'y_test', 'y_pred'], x_label='Date', y_label='ERP Sign (Binary)')\n",
    "    plt.title(f'erp_binary_rf_clf_h{h}')\n",
    "    plt.tight_layout()\n",
    "    plt.savefig(f'erp_binary_rf_clf_h{h}.png')\n",
    "    plt.close()\n",
    "\n",
    "    # Plot the actual recession binary values with the predicted probabilities\n",
    "    plot_series(y_train_h, y_test, y_prob, labels=['y_train', 'y_test', 'y_prob'], x_label='Date', y_label='Pr(ERP Sign)')\n",
    "    plt.title(f'erp_prob_rf_clf_h{h}')\n",
    "    plt.tight_layout()\n",
    "    plt.savefig(f'erp_prob_rf_clf_h{h}.png')\n",
    "    plt.close()\n",
    "\n",
    "    # Plot the top 20 features by importance\n",
    "    # Save all three graphs and close them for matplotlib to release memory\n",
    "    plt.figure(figsize=(20,28))\n",
    "    sns.barplot(x=best_features.values, y=best_features.index)\n",
    "    plt.title(f'feature_importance_rf_h{h}')\n",
    "    plt.tight_layout()\n",
    "    plt.savefig(f'feature_importance_rf_h{h}.png')\n",
    "    plt.close()\n",
    "    \n",
    "    i += 1"
   ]
  },
  {
   "cell_type": "code",
   "execution_count": null,
   "metadata": {},
   "outputs": [],
   "source": [
    "from skopt.space import Real, Integer\n",
    "from sklearn.model_selection import TimeSeriesSplit\n",
    "from skopt import BayesSearchCV\n",
    "import warnings\n",
    "from sklearn.exceptions import ConvergenceWarning\n",
    "from sklearn.metrics import accuracy_score, average_precision_score, f1_score, precision_score, recall_score, roc_auc_score\n",
    "from sktime.utils.plotting import plot_series\n",
    "\n",
    "svm_train_df = pd.DataFrame(\n",
    "    [(f'h{h}', 'svm_clf') for h in fcst_horizon], columns=['fh','clf']    \n",
    ")\n",
    "\n",
    "svm_test_df = pd.DataFrame(\n",
    "    [(f'h{h}', 'svm_clf') for h in fcst_horizon], columns=['fh','clf']    \n",
    ")\n",
    "\n",
    "svm_pred_df = pd.DataFrame().reindex(data_series.index)\n",
    "svm_prob_df = pd.DataFrame().reindex(data_series.index)\n",
    "\n",
    "svm_params_dict = {}\n",
    "\n",
    "# Define the parameter grid for cross-validation to search through\n",
    "param_grid = {\n",
    "    'C': Real(0.01, 1000, prior='log-uniform')\n",
    "}\n",
    "\n",
    "i = 0\n",
    "for h in fcst_horizon:\n",
    "    p = max_lags + h\n",
    "    time_start = y_train.index[0] + p*bday_us - 1*bday_us\n",
    "    mask_Xstart = X_train.index >= time_start\n",
    "    mask_ystart = y_train.index >= time_start\n",
    "\n",
    "    # Select only X and y columns and observations for the relevant forecast horizon\n",
    "    X_train_h = X_train.loc[mask_Xstart, [f'{x}L{lag}' for x in model_vars for lag in range(h, p)]]\n",
    "    X_test_h = X_test[[f'{x}L{lag}' for x in model_vars for lag in range(h, p)]]\n",
    "    y_train_h = y_train.loc[mask_ystart]\n",
    "\n",
    "    # Create an expanding window splitter for cross-validation\n",
    "    cv = TimeSeriesSplit(n_splits=10)\n",
    "\n",
    "    search = BayesSearchCV(estimator=svm_clf, search_spaces=param_grid, n_iter=60, scoring=log_loss, cv=cv, random_state=42)\n",
    "    with warnings.catch_warnings(record=True) as caught_warnings:\n",
    "            warnings.filterwarnings('always', category=ConvergenceWarning, module='sklearn')\n",
    "            search.fit(X=X_train_h, y=y_train_h)\n",
    "            for warn in caught_warnings:\n",
    "                svm_train_df.loc[i, 'Convergence'] = False\n",
    "    \n",
    "    svm_params_dict[(f'h{h}', 'svm_clf')] = search.best_params_\n",
    "\n",
    "    svm_fitted = SVC(**search.best_estimator_.get_params()).fit(X=X_train_h, y=y_train_h)\n",
    "    \n",
    "    y_pred_train = search.predict(X_train_h)\n",
    "    y_prob_train = search.predict_proba(X_train_h)[:, 1]\n",
    "\n",
    "    svm_train_df.loc[i, 'Accuracy'] = accuracy_score(y_train_h, y_pred_train)\n",
    "    svm_train_df.loc[i, 'F1 Score'] = f1_score(y_train_h, y_pred_train)\n",
    "    svm_train_df.loc[i, 'PR AUC'] = average_precision_score(y_train_h, y_prob_train)\n",
    "    svm_train_df.loc[i, 'Precision'] = precision_score(y_train_h, y_pred_train)\n",
    "    svm_train_df.loc[i, 'Sensitivity'] = recall_score(y_train_h, y_pred_train)\n",
    "    svm_train_df.loc[i, 'Specificity'] = recall_score(y_train_h, y_pred_train, pos_label=0)\n",
    "    svm_train_df.loc[i, 'ROC AUC'] = roc_auc_score(y_train_h, y_prob_train)\n",
    "\n",
    "    y_pred_test = search.predict(X_test_h)\n",
    "    y_prob_test = search.predict_proba(X_test_h)[:, 1]\n",
    "    \n",
    "    svm_test_df.loc[i, 'Accuracy'] = accuracy_score(y_test, y_pred_test)\n",
    "    svm_test_df.loc[i, 'F1 Score'] = f1_score(y_test, y_pred_test)\n",
    "    svm_test_df.loc[i, 'PR AUC'] = average_precision_score(y_test, y_prob_test)\n",
    "    svm_test_df.loc[i, 'Precision'] = precision_score(y_test, y_pred_test)\n",
    "    svm_test_df.loc[i, 'Sensitivity'] = recall_score(y_test, y_pred_test)\n",
    "    svm_test_df.loc[i, 'Specificity'] = recall_score(y_test, y_pred_test, pos_label=0)\n",
    "    svm_test_df.loc[i, 'ROC AUC'] = roc_auc_score(y_test, y_prob_test)\n",
    "\n",
    "    # Convert np arrays to datetime series for time series plotting\n",
    "    y_pred = pd.concat([pd.Series(y_pred_train).set_axis(y_train_h.index), pd.Series(y_pred_test).set_axis(y_test.index)])\n",
    "    y_prob = pd.concat([pd.Series(y_prob_train).set_axis(y_train_h.index), pd.Series(y_prob_test).set_axis(y_test.index)])\n",
    "\n",
    "    svm_pred_df[(f'h{h}', 'svm_clf')] = y_pred\n",
    "    svm_prob_df[(f'h{h}', 'svm_clf')] = y_prob\n",
    "\n",
    "    # Plot the actual recession binary values with the predicted binary values\n",
    "    plot_series(y_train_h, y_test, y_pred, labels=['y_train', 'y_test', 'y_pred'], x_label='Date', y_label='ERP Sign (Binary)')\n",
    "    plt.title(f'erp_binary_svm_clf_h{h}')\n",
    "    plt.tight_layout()\n",
    "    plt.savefig(f'erp_binary_svm_clf_h{h}.png')\n",
    "    plt.close()\n",
    "\n",
    "    # Plot the actual recession binary values with the predicted probabilities\n",
    "    plot_series(y_train_h, y_test, y_prob, labels=['y_train', 'y_test', 'y_prob'], x_label='Date', y_label='Pr(ERP Sign)')\n",
    "    plt.title(f'erp_prob_svm_clf_h{h}')\n",
    "    plt.tight_layout()\n",
    "    plt.savefig(f'erp_prob_svm_clf_h{h}.png')\n",
    "    plt.close()\n",
    "\n",
    "    i += 1"
   ]
  },
  {
   "cell_type": "code",
   "execution_count": null,
   "metadata": {},
   "outputs": [],
   "source": [
    "rf_train_df.to_csv('erp_rf_train_results.csv')\n",
    "rf_test_df.to_csv('erp_rf_test_results.csv')\n",
    "rf_pred_df.to_csv('erp_rf_pred_estimates.csv')\n",
    "rf_prob_df.to_csv('erp_rf_prob_estimates.csv')"
   ]
  },
  {
   "cell_type": "code",
   "execution_count": 19,
   "metadata": {},
   "outputs": [],
   "source": [
    "svm_train_df.to_csv('erp_svm_train_results.csv')\n",
    "svm_test_df.to_csv('erp_svm_test_results.csv')\n",
    "svm_pred_df.to_csv('erp_svm_pred_estimates.csv')\n",
    "svm_prob_df.to_csv('erp_svm_prob_estimates.csv')"
   ]
  },
  {
   "cell_type": "code",
   "execution_count": null,
   "metadata": {},
   "outputs": [],
   "source": [
    "rf_params_df = pd.DataFrame.from_dict(rf_params_dict, orient='index')\n",
    "rf_params_df.to_csv('erp_rf_parameters.csv')"
   ]
  },
  {
   "cell_type": "code",
   "execution_count": 20,
   "metadata": {},
   "outputs": [],
   "source": [
    "svm_params_df = pd.DataFrame.from_dict(svm_params_dict, orient='index')\n",
    "svm_params_df.to_csv('erp_svm_parameters.csv')"
   ]
  },
  {
   "cell_type": "code",
   "execution_count": null,
   "metadata": {},
   "outputs": [],
   "source": [
    "# Perform some manipulation and export feature importances to CSV\n",
    "\n",
    "feature_importance_df = pd.DataFrame()\n",
    "\n",
    "for h in fcst_horizon:\n",
    "    tmp_feature = rf_features_dict[(f'h{h}', 'rf_clf')].rename_axis(f'h{h}_rf_feature').reset_index(name=f'h{h}_rf_importance')\n",
    "    feature_importance_df = pd.concat([feature_importance_df, tmp_feature.T])\n",
    "\n",
    "feature_importance_df.to_csv('erp_rf_feature_importances.csv')"
   ]
  }
 ],
 "metadata": {
  "kernelspec": {
   "display_name": "Python 3.7.6 ('base')",
   "language": "python",
   "name": "python3"
  },
  "language_info": {
   "codemirror_mode": {
    "name": "ipython",
    "version": 3
   },
   "file_extension": ".py",
   "mimetype": "text/x-python",
   "name": "python",
   "nbconvert_exporter": "python",
   "pygments_lexer": "ipython3",
   "version": "3.7.6"
  },
  "orig_nbformat": 4,
  "vscode": {
   "interpreter": {
    "hash": "5b020d37e2d2792244d38dc749b48635155a26318d10fe99dbb63be9f4ff243c"
   }
  }
 },
 "nbformat": 4,
 "nbformat_minor": 2
}

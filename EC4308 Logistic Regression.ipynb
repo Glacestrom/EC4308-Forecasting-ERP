{
 "cells": [
  {
   "cell_type": "code",
   "execution_count": 59,
   "metadata": {},
   "outputs": [
    {
     "name": "stdout",
     "output_type": "stream",
     "text": [
      "^C\n"
     ]
    }
   ],
   "source": [
    "!pip install -U scikit-learn"
   ]
  },
  {
   "cell_type": "code",
   "execution_count": null,
   "metadata": {},
   "outputs": [],
   "source": [
    "!pip install sktime --ignore-installed llvmlite"
   ]
  },
  {
   "cell_type": "code",
   "execution_count": null,
   "metadata": {},
   "outputs": [],
   "source": [
    "!pip install pandas_market_calendars"
   ]
  },
  {
   "cell_type": "code",
   "execution_count": null,
   "metadata": {},
   "outputs": [],
   "source": [
    "!pip install -U scikit-optimize"
   ]
  },
  {
   "cell_type": "code",
   "execution_count": 3,
   "metadata": {},
   "outputs": [],
   "source": [
    "import numpy as np\n",
    "import pandas as pd\n",
    "import matplotlib.pyplot as plt\n",
    "from pprint import pprint"
   ]
  },
  {
   "cell_type": "code",
   "execution_count": null,
   "metadata": {},
   "outputs": [],
   "source": [
    "feature_df = pd.read_csv('features.csv')\n",
    "\n",
    "X_train = pd.read_csv('train.csv')\n",
    "X_test = pd.read_csv('test.csv')\n",
    "y_train = pd.read_csv('train_labels.csv')\n",
    "y_test = pd.read_csv('test_labels.csv')\n",
    "\n",
    "print(f'X_train: {X_train.shape}, X_test: {X_test.shape}, y_train: {y_train.shape}, y_test: {y_test.shape}')"
   ]
  },
  {
   "cell_type": "code",
   "execution_count": 48,
   "metadata": {},
   "outputs": [
    {
     "name": "stdout",
     "output_type": "stream",
     "text": [
      "X_train: (3416, 1200), X_test: (855, 1200), y_train: (3416,), y_test: (855,)\n"
     ]
    }
   ],
   "source": [
    "import pandas_market_calendars as mcal\n",
    "\n",
    "for df in (feature_df, X_train, X_test, y_train, y_test):\n",
    "    df['date'] = pd.to_datetime(df['date'], format = '%Y-%m-%d')\n",
    "    df.set_index('date', inplace=True)\n",
    "\n",
    "nyse = mcal.get_calendar('NYSE')\n",
    "bday_us = pd.offsets.CustomBusinessDay(holidays=nyse.adhoc_holidays, calendar=nyse.regular_holidays, weekmask=\"1111100\")\n",
    "feature_df = feature_df.asfreq(bday_us)\n",
    "X_train = X_train.asfreq(bday_us)\n",
    "X_test = X_test.asfreq(bday_us)\n",
    "y_train = y_train.asfreq(bday_us)['ERP_Sign']\n",
    "y_test = y_test.asfreq(bday_us)['ERP_Sign']\n",
    "\n",
    "print(f'X_train: {X_train.shape}, X_test: {X_test.shape}, y_train: {y_train.shape}, y_test: {y_test.shape}')"
   ]
  },
  {
   "cell_type": "code",
   "execution_count": 50,
   "metadata": {},
   "outputs": [],
   "source": [
    "data_series = pd.concat([y_train, y_test])"
   ]
  },
  {
   "cell_type": "code",
   "execution_count": 51,
   "metadata": {},
   "outputs": [],
   "source": [
    "max_lags = 10\n",
    "fcst_horizon = [5, 10, 15, 20]\n",
    "model_vars = feature_df.columns"
   ]
  },
  {
   "cell_type": "code",
   "execution_count": 98,
   "metadata": {
    "id": "HMS39XWuHXgJ"
   },
   "outputs": [],
   "source": [
    "from sklearn.linear_model import LogisticRegression\n",
    "\n",
    "logit_clf = LogisticRegression(penalty='none', solver='lbfgs', max_iter=10000, random_state=42)\n",
    "ridge_clf = LogisticRegression(penalty='l2', solver='lbfgs', max_iter=10000, random_state=42)\n",
    "lasso_clf = LogisticRegression(penalty='l1', solver='saga', max_iter=10000, random_state=42)"
   ]
  },
  {
   "cell_type": "code",
   "execution_count": 7,
   "metadata": {},
   "outputs": [],
   "source": [
    "from sklearn import metrics\n",
    "\n",
    "# Define (negative) log-loss as the loss function, aka scorer\n",
    "log_loss = metrics.make_scorer(metrics.log_loss, greater_is_better=False, needs_proba=True, labels=[0, 1])"
   ]
  },
  {
   "cell_type": "code",
   "execution_count": null,
   "metadata": {},
   "outputs": [],
   "source": [
    "from skopt.space import Real, Integer\n",
    "from sklearn.model_selection import TimeSeriesSplit\n",
    "from skopt import BayesSearchCV\n",
    "import warnings\n",
    "from sklearn.exceptions import ConvergenceWarning\n",
    "from sklearn.metrics import accuracy_score, average_precision_score, f1_score, precision_score, recall_score, roc_auc_score\n",
    "from sktime.utils.plotting import plot_series\n",
    "\n",
    "fcst_train_df = pd.DataFrame(\n",
    "    [(f'h{h}', f'{clf}') for h in fcst_horizon for clf in ('logit_clf', 'ridge_clf', 'lasso_clf')],\n",
    "    columns=['fh','clf']    \n",
    ")\n",
    "\n",
    "fcst_test_df = pd.DataFrame(\n",
    "    [(f'h{h}', f'{clf}') for h in fcst_horizon for clf in ('logit_clf', 'ridge_clf', 'lasso_clf')],\n",
    "    columns=['fh','clf']    \n",
    ")\n",
    "\n",
    "fcst_pred_df = pd.DataFrame().reindex(data_series.index)\n",
    "fcst_prob_df = pd.DataFrame().reindex(data_series.index)\n",
    "\n",
    "fcst_params_dict = {}\n",
    "fcst_coefs_dict = {}\n",
    "\n",
    "# Define the parameter grid for cross-validation to search through\n",
    "param_grid = {\n",
    "    'C': Real(0.01, 100, prior='log-uniform')\n",
    "}\n",
    "\n",
    "i = 0\n",
    "for h in fcst_horizon:\n",
    "    p = max_lags + h\n",
    "    time_start = y_train.index[0] + p*bday_us - 1*bday_us\n",
    "    mask_Xstart = X_train.index >= time_start\n",
    "    mask_ystart = y_train.index >= time_start\n",
    "\n",
    "    # Select only X and y columns and observations for the relevant forecast horizon\n",
    "    X_train_h = X_train.loc[mask_Xstart, [f'{x}L{lag}' for x in model_vars for lag in range(h, p)]]\n",
    "    X_test_h = X_test[[f'{x}L{lag}' for x in model_vars for lag in range(h, p)]]\n",
    "    y_train_h = y_train.loc[mask_ystart]\n",
    "\n",
    "    # Create an expanding window splitter for cross-validation\n",
    "    cv = TimeSeriesSplit(n_splits=10)\n",
    "\n",
    "    for clf in (logit_clf, ridge_clf, lasso_clf):\n",
    "        search = BayesSearchCV(estimator=clf, search_spaces=param_grid, n_iter=60, scoring=log_loss, cv=cv, random_state=42)\n",
    "        with warnings.catch_warnings(record=True) as caught_warnings:\n",
    "            warnings.filterwarnings('always', category=ConvergenceWarning, module='sklearn')\n",
    "            search.fit(X=X_train_h, y=y_train_h)\n",
    "            for warn in caught_warnings:\n",
    "                fcst_train_df.loc[i, 'Convergence'] = False\n",
    "\n",
    "        fcst_params_dict[(f'h{h}', f'{clf}')] = search.best_params_\n",
    "        clf_fitted = clf.__class__(**search.best_estimator_.get_params()).fit(X=X_train_h, y=y_train_h)\n",
    "        fcst_coefs_dict[(f'h{h}', f'{clf}')] = pd.concat([pd.DataFrame(X_train_h.columns), pd.DataFrame(np.transpose(clf_fitted.coef_))], axis=1).sorted\n",
    "        \n",
    "        y_pred_train = clf_fitted.predict(X_train_h)\n",
    "        y_prob_train = clf_fitted.predict_proba(X_train_h)[:, 1]\n",
    "\n",
    "        fcst_train_df.loc[i, 'Accuracy'] = accuracy_score(y_train_h, y_pred_train)\n",
    "        fcst_train_df.loc[i, 'F1 Score'] = f1_score(y_train_h, y_pred_train)\n",
    "        fcst_train_df.loc[i, 'PR AUC'] = average_precision_score(y_train_h, y_prob_train)\n",
    "        fcst_train_df.loc[i, 'Precision'] = precision_score(y_train_h, y_pred_train)\n",
    "        fcst_train_df.loc[i, 'Sensitivity'] = recall_score(y_train_h, y_pred_train)\n",
    "        fcst_train_df.loc[i, 'Specificity'] = recall_score(y_train_h, y_pred_train, pos_label=0)\n",
    "        fcst_train_df.loc[i, 'ROC AUC'] = roc_auc_score(y_train_h, y_prob_train)\n",
    "\n",
    "        y_pred_test = clf_fitted.predict(X_test_h)\n",
    "        y_prob_test = clf_fitted.predict_proba(X_test_h)[:, 1]\n",
    "        \n",
    "        fcst_test_df.loc[i, 'Accuracy'] = accuracy_score(y_test, y_pred_test)\n",
    "        fcst_test_df.loc[i, 'F1 Score'] = f1_score(y_test, y_pred_test)\n",
    "        fcst_test_df.loc[i, 'PR AUC'] = average_precision_score(y_test, y_prob_test)\n",
    "        fcst_test_df.loc[i, 'Precision'] = precision_score(y_test, y_pred_test)\n",
    "        fcst_test_df.loc[i, 'Sensitivity'] = recall_score(y_test, y_pred_test)\n",
    "        fcst_test_df.loc[i, 'Specificity'] = recall_score(y_test, y_pred_test, pos_label=0)\n",
    "        fcst_test_df.loc[i, 'ROC AUC'] = roc_auc_score(y_test, y_prob_test)\n",
    "        \n",
    "        # Convert np arrays to datetime series for time series plotting\n",
    "        y_pred = pd.concat([pd.Series(y_pred_train).set_axis(y_train_h.index), pd.Series(y_pred_test).set_axis(y_test.index)])\n",
    "        y_prob = pd.concat([pd.Series(y_prob_train).set_axis(y_train_h.index), pd.Series(y_prob_test).set_axis(y_test.index)])\n",
    "\n",
    "        fcst_pred_df[(f'h{h}', f'{clf}')] = y_pred\n",
    "        fcst_prob_df[(f'h{h}', f'{clf}')] = y_prob\n",
    "\n",
    "        # Plot the actual recession binary values with the predicted binary values\n",
    "        plot_series(y_train_h, y_test, y_pred, labels=['y_train', 'y_test', 'y_pred'], x_label='Date', y_label='ERP Sign (Binary)')\n",
    "        plt.title(f'erp_binary_{clf}_h{h}')\n",
    "        plt.tight_layout()\n",
    "        plt.savefig(f'erp_binary_{clf}_h{h}.png')\n",
    "        plt.close()\n",
    "\n",
    "        # Plot the actual recession binary values with the predicted probabilities\n",
    "        plot_series(y_train_h, y_test, y_prob, labels=['y_train', 'y_test', 'y_prob'], x_label='Date', y_label='Pr(ERP Sign)')\n",
    "        plt.title(f'erp_prob_{clf}_h{h}')\n",
    "        plt.tight_layout()\n",
    "        plt.savefig(f'erp_prob_{clf}_h{h}.png')\n",
    "        plt.close()\n",
    "\n",
    "        i += 1"
   ]
  },
  {
   "cell_type": "code",
   "execution_count": null,
   "metadata": {},
   "outputs": [],
   "source": [
    "from skopt.space import Real, Integer\n",
    "from sklearn.model_selection import TimeSeriesSplit\n",
    "from skopt import BayesSearchCV\n",
    "import warnings\n",
    "from sklearn.exceptions import ConvergenceWarning\n",
    "from sklearn.metrics import accuracy_score, average_precision_score, f1_score, precision_score, recall_score, roc_auc_score\n",
    "from sktime.utils.plotting import plot_series\n",
    "\n",
    "elnet_train_df = pd.DataFrame(\n",
    "    [(f'h{h}', 'elnet_clf') for h in fcst_horizon], columns=['fh','clf']    \n",
    ")\n",
    "\n",
    "elnet_test_df = pd.DataFrame(\n",
    "    [(f'h{h}', 'elnet_clf') for h in fcst_horizon], columns=['fh','clf']    \n",
    ")\n",
    "\n",
    "elnet_pred_df = pd.DataFrame().reindex(data_series.index)\n",
    "elnet_prob_df = pd.DataFrame().reindex(data_series.index)\n",
    "\n",
    "elnet_params_dict = {}\n",
    "elnet_coefs_dict = {}\n",
    "\n",
    "# Define the parameter grid for cross-validation to search through\n",
    "param_grid = {\n",
    "    'C': Real(0.01, 100, prior='log-uniform'),\n",
    "    'l1_ratio': Real(0.01, 1)\n",
    "}\n",
    "\n",
    "i = 0\n",
    "for h in fcst_horizon:\n",
    "    p = max_lags + h\n",
    "    time_start = y_train.index[0] + p*bday_us - 1*bday_us\n",
    "    mask_Xstart = X_train.index >= time_start\n",
    "    mask_ystart = y_train.index >= time_start\n",
    "\n",
    "    # Select only X and y columns and observations for the relevant forecast horizon\n",
    "    X_train_h = X_train.loc[mask_Xstart, [f'{x}L{lag}' for x in model_vars for lag in range(h, p)]]\n",
    "    X_test_h = X_test[[f'{x}L{lag}' for x in model_vars for lag in range(h, p)]]\n",
    "    y_train_h = y_train.loc[mask_ystart]\n",
    "\n",
    "    # Create an expanding window splitter for cross-validation\n",
    "    cv = TimeSeriesSplit(n_splits=10)\n",
    "\n",
    "    elnet_clf = LogisticRegression(penalty='elasticnet', solver='saga', max_iter=10000, random_state=42)\n",
    "    search = BayesSearchCV(estimator=elnet_clf, search_spaces=param_grid, n_iter=60, scoring=log_loss, cv=cv, random_state=42)\n",
    "    with warnings.catch_warnings(record=True) as caught_warnings:\n",
    "        warnings.filterwarnings('always', category=ConvergenceWarning, module='sklearn')\n",
    "        search.fit(X=X_train_h, y=y_train_h)\n",
    "        for warn in caught_warnings:\n",
    "            elnet_train_df.loc[i, 'Convergence'] = False\n",
    "        \n",
    "    elnet_params_dict[(f'h{h}', 'elnet_clf')] = search.best_params_\n",
    "\n",
    "    elnet_fitted = LogisticRegression(**search.best_estimator_.get_params()).fit(X=X_train_h, y=y_train_h)\n",
    "    elnet_coefs_dict[(f'h{h}', 'elnet_clf')] = pd.concat([pd.DataFrame(X_train_h.columns), pd.DataFrame(np.transpose(elnet_fitted.coef_))], axis=1).sorted\n",
    "    \n",
    "    y_pred_train = search.predict(X_train_h)\n",
    "    y_prob_train = search.predict_proba(X_train_h)[:, 1]\n",
    "\n",
    "    elnet_train_df.loc[i, 'Accuracy'] = accuracy_score(y_train_h, y_pred_train)\n",
    "    elnet_train_df.loc[i, 'F1 Score'] = f1_score(y_train_h, y_pred_train)\n",
    "    elnet_train_df.loc[i, 'PR AUC'] = average_precision_score(y_train_h, y_prob_train)\n",
    "    elnet_train_df.loc[i, 'Precision'] = precision_score(y_train_h, y_pred_train)\n",
    "    elnet_train_df.loc[i, 'Sensitivity'] = recall_score(y_train_h, y_pred_train)\n",
    "    elnet_train_df.loc[i, 'Specificity'] = recall_score(y_train_h, y_pred_train, pos_label=0)\n",
    "    elnet_train_df.loc[i, 'ROC AUC'] = roc_auc_score(y_train_h, y_prob_train)\n",
    "\n",
    "    y_pred_test = search.predict(X_test_h)\n",
    "    y_prob_test = search.predict_proba(X_test_h)[:, 1]\n",
    "    \n",
    "    elnet_test_df.loc[i, 'Accuracy'] = accuracy_score(y_test, y_pred_test)\n",
    "    elnet_test_df.loc[i, 'F1 Score'] = f1_score(y_test, y_pred_test)\n",
    "    elnet_test_df.loc[i, 'PR AUC'] = average_precision_score(y_test, y_prob_test)\n",
    "    elnet_test_df.loc[i, 'Precision'] = precision_score(y_test, y_pred_test)\n",
    "    elnet_test_df.loc[i, 'Sensitivity'] = recall_score(y_test, y_pred_test)\n",
    "    elnet_test_df.loc[i, 'Specificity'] = recall_score(y_test, y_pred_test, pos_label=0)\n",
    "    elnet_test_df.loc[i, 'ROC AUC'] = roc_auc_score(y_test, y_prob_test)\n",
    "\n",
    "    # Convert np arrays to datetime series for time series plotting\n",
    "    y_pred = pd.concat([pd.Series(y_pred_train).set_axis(y_train_h.index), pd.Series(y_pred_test).set_axis(y_test.index)])\n",
    "    y_prob = pd.concat([pd.Series(y_prob_train).set_axis(y_train_h.index), pd.Series(y_prob_test).set_axis(y_test.index)])\n",
    "\n",
    "    elnet_pred_df[(f'h{h}', 'elnet_clf')] = y_pred\n",
    "    elnet_prob_df[(f'h{h}', 'elnet_clf')] = y_prob\n",
    "\n",
    "    # Plot the actual recession binary values with the predicted binary values\n",
    "    plot_series(y_train_h, y_test, y_pred, labels=['y_train', 'y_test', 'y_pred'], x_label='Date', y_label='ERP Sign (Binary)')\n",
    "    plt.title(f'erp_binary_elnet_clf_h{h}')\n",
    "    plt.tight_layout()\n",
    "    plt.savefig(f'erp_binary_elnet_clf_h{h}.png')\n",
    "    plt.close()\n",
    "\n",
    "    # Plot the actual recession binary values with the predicted probabilities\n",
    "    plot_series(y_train_h, y_test, y_prob, labels=['y_train', 'y_test', 'y_prob'], x_label='Date', y_label='Pr(ERP Sign)')\n",
    "    plt.title(f'erp_prob_elnet_clf_h{h}')\n",
    "    plt.tight_layout()\n",
    "    plt.savefig(f'erp_prob_elnet_clf_h{h}.png')\n",
    "    plt.close()\n",
    "\n",
    "    i += 1"
   ]
  },
  {
   "cell_type": "code",
   "execution_count": null,
   "metadata": {},
   "outputs": [],
   "source": [
    "combined_train_df = pd.concat([fcst_train_df, elnet_train_df], ignore_index=True)\n",
    "combined_test_df = pd.concat([fcst_test_df, elnet_test_df], ignore_index=True)\n",
    "combined_pred_df = pd.concat([fcst_pred_df, elnet_pred_df], axis=1)\n",
    "combined_prob_df = pd.concat([fcst_prob_df, elnet_prob_df], axis=1)"
   ]
  },
  {
   "cell_type": "code",
   "execution_count": null,
   "metadata": {},
   "outputs": [],
   "source": [
    "combined_train_df.to_csv('erp_logit_train_results.csv')\n",
    "combined_test_df.to_csv('erp_logit_test_results.csv')\n",
    "combined_pred_df.to_csv('erp_logit_pred_estimates.csv')\n",
    "combined_prob_df.to_csv('erp_logit_prob_estimates.csv')"
   ]
  },
  {
   "cell_type": "code",
   "execution_count": null,
   "metadata": {},
   "outputs": [],
   "source": [
    "fcst_params_df = pd.DataFrame.from_dict(fcst_params_dict, orient='index')\n",
    "elnet_params_df = pd.DataFrame.from_dict(elnet_params_dict, orient='index')\n",
    "combined_params_df = pd.concat([fcst_params_df, elnet_params_df], ignore_index=True)\n",
    "combined_params_df.to_csv('erp_logit_parameters.csv')"
   ]
  },
  {
   "cell_type": "code",
   "execution_count": null,
   "metadata": {},
   "outputs": [],
   "source": [
    "combined_coefs_df = pd.DataFrame()\n",
    "\n",
    "for h in (5, 10):\n",
    "    for clf in (logit_clf, ridge_clf, lasso_clf):\n",
    "        tmp_coefs_df = fcst_coefs_dict[(f'h{h}', f'{clf}')])\n",
    "        tmp_coefs_df.columns = ['features', f'{clf}']\n",
    "        combined_coefs_df = pd.concat([combined_coefs_df, tmp_coefs_df], axis=1)\n",
    "    \n",
    "    tmp_coefs_df = elnet_coefs_dict[(f'h{h}', 'elnet_clf')])\n",
    "    tmp_coefs_df.columns = ['features', 'elnet_clf']\n",
    "    combined_coefs_df = pd.concat([combined_coefs_df, tmp_coefs_df], axis=1)\n",
    "    combined_coefs_df.to_csv(f'erp_logit_h{h}_coefficients.csv')"
   ]
  }
 ],
 "metadata": {
  "kernelspec": {
   "display_name": "Python 3.7.6 ('base')",
   "language": "python",
   "name": "python3"
  },
  "language_info": {
   "codemirror_mode": {
    "name": "ipython",
    "version": 3
   },
   "file_extension": ".py",
   "mimetype": "text/x-python",
   "name": "python",
   "nbconvert_exporter": "python",
   "pygments_lexer": "ipython3",
   "version": "3.7.6"
  },
  "orig_nbformat": 4,
  "vscode": {
   "interpreter": {
    "hash": "5b020d37e2d2792244d38dc749b48635155a26318d10fe99dbb63be9f4ff243c"
   }
  }
 },
 "nbformat": 4,
 "nbformat_minor": 2
}
